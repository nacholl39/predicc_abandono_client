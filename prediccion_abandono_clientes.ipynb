{
 "cells": [
  {
   "cell_type": "markdown",
   "id": "cf58ff1c",
   "metadata": {},
   "source": [
    "# Desarrollo del proyecto:\n"
   ]
  },
  {
   "cell_type": "markdown",
   "id": "a60ae148",
   "metadata": {},
   "source": [
    "## Definición del problema:\n",
    "\n",
    "Con este estudio se pretende entrenar varios modelos de Machine Learning con un conjunto de datos extraidos de la plataforma \"Kaggle\", a los cuales tendremos que aplicarle una limpieza y análisis previos para prepararlos, evaluar el rendimiento de dichos modelos y visualizar los resultados con el fin de compararlos y poder elegir el mas adecuado.\n",
    "\n",
    "\n",
    "\n",
    "## Objetivos:\n",
    "\n",
    "1. Limpieza y análisis de datos: Antes de entrenar los modelos, es importante realizar una limpieza exhaustiva de los datos. Esto implica manejar valores faltantes, eliminar duplicados, resolver inconsistencias y realizar transformaciones necesarias. Además, es fundamental realizar un análisis exploratorio de los datos para comprender su distribución, identificar posibles correlaciones y obtener información relevante para el modelado.\n",
    "\n",
    "2. Entrenamiento de modelos: Una vez que los datos han sido limpiados y analizados, el siguiente paso es entrenar varios modelos de aprendizaje automático. Durante el entrenamiento, se ajustarán los parámetros de cada modelo utilizando un subconjunto de los datos conocidos como conjunto de entrenamiento.\n",
    "\n",
    "3. Evaluación del rendimiento de los modelos: Una vez que los modelos han sido entrenados, es importante evaluar su rendimiento utilizando medidas adecuadas. Para problemas este caso, al tratarse de un problema de clasificación utilizaremos la métrica f1-score, al ser la más exacta para este tipo de problemas.\n",
    "\n",
    "4. Visualización y comparación de resultados: Para una comprensión más intuitiva y una comunicación efectiva de los resultados, es recomendable visualizar los resultados de los modelos. Utilizaremos un gráfico y una tabla para mostrar las predicciones de cada modelo para asi visualizar de manera más clara los resultados de cada uno, poder compararlos y elegir el que haya tenido mejor resultado."
   ]
  },
  {
   "cell_type": "code",
   "execution_count": 1,
   "id": "f0996aed",
   "metadata": {},
   "outputs": [],
   "source": [
    "# Importamos las librerías.\n",
    "\n",
    "# División de datos\n",
    "from sklearn.model_selection import train_test_split\n",
    "\n",
    "# Análisis de datos\n",
    "import pandas as pd\n",
    "import numpy as np\n",
    "import random as rnd\n",
    "\n",
    "# Visualización\n",
    "import seaborn as sns\n",
    "import matplotlib.pyplot as plt\n",
    "%matplotlib inline\n",
    "\n",
    "# Machine Learning (modelos)\n",
    "from sklearn.linear_model import LogisticRegression\n",
    "from sklearn.svm import SVC, LinearSVC\n",
    "from sklearn.ensemble import RandomForestClassifier\n",
    "from sklearn.neighbors import KNeighborsClassifier\n",
    "from sklearn.naive_bayes import GaussianNB\n",
    "from sklearn.tree import DecisionTreeClassifier"
   ]
  },
  {
   "cell_type": "markdown",
   "id": "0e00e4d3",
   "metadata": {},
   "source": [
    "# Análisis de datos."
   ]
  },
  {
   "cell_type": "markdown",
   "id": "cbf87c0d",
   "metadata": {},
   "source": [
    "## Definición y carga de los datos."
   ]
  },
  {
   "cell_type": "code",
   "execution_count": 2,
   "id": "fb1dfab7",
   "metadata": {},
   "outputs": [],
   "source": [
    "# Cargamos los datos desde los archivos CSV\n",
    "\n",
    "dataframe = pd.read_csv('Churn_Modelling.csv')"
   ]
  },
  {
   "cell_type": "code",
   "execution_count": 3,
   "id": "faa3012a",
   "metadata": {},
   "outputs": [],
   "source": [
    "# Dividimos la columna \"Exited\" en la variable Y (etiquetas), y el resto de columnas en X (datos)\n",
    "\n",
    "Y = dataframe[\"Exited\"]\n",
    "X = dataframe.drop(\"Exited\", axis=1)"
   ]
  },
  {
   "cell_type": "code",
   "execution_count": 4,
   "id": "47259a8c",
   "metadata": {},
   "outputs": [
    {
     "name": "stdout",
     "output_type": "stream",
     "text": [
      "Nos aseguramos de que se haya dividido las etiquetas de la columna Exited, del resto de columnas.\n"
     ]
    }
   ],
   "source": [
    "# Usamos el método \".name\" para visualizar el nombre de la serie y confirmar asi que se haya guardado en la variable.\n",
    "print(f\"Nos aseguramos de que se haya dividido las etiquetas de la columna {Y.name}, del resto de columnas.\")"
   ]
  },
  {
   "cell_type": "code",
   "execution_count": 5,
   "id": "f9ca34e4",
   "metadata": {},
   "outputs": [],
   "source": [
    "# Realizamos la división de los datos\n",
    "\n",
    "X_train, X_test, Y_train, Y_test = train_test_split(X, Y)"
   ]
  },
  {
   "cell_type": "code",
   "execution_count": 6,
   "id": "5272418f",
   "metadata": {},
   "outputs": [
    {
     "name": "stdout",
     "output_type": "stream",
     "text": [
      "El número de datos de entrenamiento es 7500 y el de test es 2500\n"
     ]
    }
   ],
   "source": [
    "# Verificamos que se haya realizado la división de los datos entre entrenamiento y test.\n",
    "print(\"El número de datos de entrenamiento es\", len(X_train), \"y el de test es\", len(X_test))"
   ]
  },
  {
   "cell_type": "code",
   "execution_count": 7,
   "id": "8db3d1c7",
   "metadata": {},
   "outputs": [
    {
     "data": {
      "text/html": [
       "<div>\n",
       "<style scoped>\n",
       "    .dataframe tbody tr th:only-of-type {\n",
       "        vertical-align: middle;\n",
       "    }\n",
       "\n",
       "    .dataframe tbody tr th {\n",
       "        vertical-align: top;\n",
       "    }\n",
       "\n",
       "    .dataframe thead th {\n",
       "        text-align: right;\n",
       "    }\n",
       "</style>\n",
       "<table border=\"1\" class=\"dataframe\">\n",
       "  <thead>\n",
       "    <tr style=\"text-align: right;\">\n",
       "      <th></th>\n",
       "      <th>RowNumber</th>\n",
       "      <th>CustomerId</th>\n",
       "      <th>Surname</th>\n",
       "      <th>CreditScore</th>\n",
       "      <th>Geography</th>\n",
       "      <th>Gender</th>\n",
       "      <th>Age</th>\n",
       "      <th>Tenure</th>\n",
       "      <th>Balance</th>\n",
       "      <th>NumOfProducts</th>\n",
       "      <th>HasCrCard</th>\n",
       "      <th>IsActiveMember</th>\n",
       "      <th>EstimatedSalary</th>\n",
       "    </tr>\n",
       "  </thead>\n",
       "  <tbody>\n",
       "    <tr>\n",
       "      <th>7974</th>\n",
       "      <td>7975</td>\n",
       "      <td>15722632</td>\n",
       "      <td>Dickson</td>\n",
       "      <td>716</td>\n",
       "      <td>Germany</td>\n",
       "      <td>Male</td>\n",
       "      <td>50</td>\n",
       "      <td>2</td>\n",
       "      <td>119655.77</td>\n",
       "      <td>1</td>\n",
       "      <td>1</td>\n",
       "      <td>1</td>\n",
       "      <td>12944.17</td>\n",
       "    </tr>\n",
       "    <tr>\n",
       "      <th>1771</th>\n",
       "      <td>1772</td>\n",
       "      <td>15633260</td>\n",
       "      <td>Dumetochukwu</td>\n",
       "      <td>600</td>\n",
       "      <td>France</td>\n",
       "      <td>Male</td>\n",
       "      <td>37</td>\n",
       "      <td>1</td>\n",
       "      <td>142663.46</td>\n",
       "      <td>1</td>\n",
       "      <td>0</td>\n",
       "      <td>1</td>\n",
       "      <td>88669.89</td>\n",
       "    </tr>\n",
       "    <tr>\n",
       "      <th>1462</th>\n",
       "      <td>1463</td>\n",
       "      <td>15566211</td>\n",
       "      <td>Hsu</td>\n",
       "      <td>616</td>\n",
       "      <td>Germany</td>\n",
       "      <td>Female</td>\n",
       "      <td>41</td>\n",
       "      <td>1</td>\n",
       "      <td>103560.57</td>\n",
       "      <td>1</td>\n",
       "      <td>1</td>\n",
       "      <td>0</td>\n",
       "      <td>236.45</td>\n",
       "    </tr>\n",
       "    <tr>\n",
       "      <th>7876</th>\n",
       "      <td>7877</td>\n",
       "      <td>15757607</td>\n",
       "      <td>Matveyeva</td>\n",
       "      <td>623</td>\n",
       "      <td>France</td>\n",
       "      <td>Male</td>\n",
       "      <td>45</td>\n",
       "      <td>0</td>\n",
       "      <td>0.00</td>\n",
       "      <td>1</td>\n",
       "      <td>1</td>\n",
       "      <td>0</td>\n",
       "      <td>196533.72</td>\n",
       "    </tr>\n",
       "    <tr>\n",
       "      <th>8351</th>\n",
       "      <td>8352</td>\n",
       "      <td>15650751</td>\n",
       "      <td>Butler</td>\n",
       "      <td>585</td>\n",
       "      <td>France</td>\n",
       "      <td>Female</td>\n",
       "      <td>30</td>\n",
       "      <td>6</td>\n",
       "      <td>0.00</td>\n",
       "      <td>2</td>\n",
       "      <td>1</td>\n",
       "      <td>1</td>\n",
       "      <td>137757.69</td>\n",
       "    </tr>\n",
       "  </tbody>\n",
       "</table>\n",
       "</div>"
      ],
      "text/plain": [
       "      RowNumber  CustomerId       Surname  CreditScore Geography  Gender  Age  \\\n",
       "7974       7975    15722632       Dickson          716   Germany    Male   50   \n",
       "1771       1772    15633260  Dumetochukwu          600    France    Male   37   \n",
       "1462       1463    15566211           Hsu          616   Germany  Female   41   \n",
       "7876       7877    15757607     Matveyeva          623    France    Male   45   \n",
       "8351       8352    15650751        Butler          585    France  Female   30   \n",
       "\n",
       "      Tenure    Balance  NumOfProducts  HasCrCard  IsActiveMember  \\\n",
       "7974       2  119655.77              1          1               1   \n",
       "1771       1  142663.46              1          0               1   \n",
       "1462       1  103560.57              1          1               0   \n",
       "7876       0       0.00              1          1               0   \n",
       "8351       6       0.00              2          1               1   \n",
       "\n",
       "      EstimatedSalary  \n",
       "7974         12944.17  \n",
       "1771         88669.89  \n",
       "1462           236.45  \n",
       "7876        196533.72  \n",
       "8351        137757.69  "
      ]
     },
     "execution_count": 7,
     "metadata": {},
     "output_type": "execute_result"
    }
   ],
   "source": [
    "# Realizamos un primer vistazo de los 5 primeros datos de entrenamiento para hacernos una idea del \n",
    "# tipo de dato que se maneja en cada columna.\n",
    "X_train.head()"
   ]
  },
  {
   "cell_type": "markdown",
   "id": "8595c237",
   "metadata": {},
   "source": [
    "## Análisis exploratorio."
   ]
  },
  {
   "cell_type": "markdown",
   "id": "f37c2877",
   "metadata": {},
   "source": [
    "Veamos la proporción de clientes que se han ido, frente a la de clientes que se han quedado."
   ]
  },
  {
   "cell_type": "code",
   "execution_count": 5,
   "id": "9f54b68f",
   "metadata": {},
   "outputs": [
    {
     "data": {
      "image/png": "[encoded data removed]",
      "text/plain": [
       "<Figure size 1000x800 with 1 Axes>"
      ]
     },
     "metadata": {},
     "output_type": "display_data"
    }
   ],
   "source": [
    "labels = 'Exited', 'Retained'\n",
    "sizes = [dataframe.Exited[dataframe['Exited']==1].count(), dataframe.Exited[dataframe['Exited']==0].count()]\n",
    "explode = (0, 0.1)\n",
    "fig1, ax1 = plt.subplots(figsize=(10, 8))\n",
    "ax1.pie(sizes, explode=explode, labels=labels, autopct='%1.1f%%',\n",
    "        shadow=True, startangle=90)\n",
    "ax1.axis('equal')\n",
    "plt.title(\"Proporción de abandono de clientes, frente a los que permanecen.\", size = 20)\n",
    "plt.show()"
   ]
  },
  {
   "cell_type": "markdown",
   "id": "870e8912",
   "metadata": {},
   "source": [
    "Como podemos ver la tasa de abandono es del 20,4%"
   ]
  },
  {
   "cell_type": "code",
   "execution_count": 7,
   "id": "ae527d00",
   "metadata": {},
   "outputs": [
    {
     "data": {
      "text/plain": [
       "<Axes: xlabel='IsActiveMember', ylabel='count'>"
      ]
     },
     "execution_count": 7,
     "metadata": {},
     "output_type": "execute_result"
    },
    {
     "data": {
      "image/png": "[encoded data removed]",
      "text/plain": [
       "<Figure size 2000x1200 with 4 Axes>"
      ]
     },
     "metadata": {},
     "output_type": "display_data"
    }
   ],
   "source": [
    "# A continuación, revisamos la relación con variables categóricas\n",
    "fig, axarr = plt.subplots(2, 2, figsize=(20, 12))\n",
    "sns.countplot(x='Geography', hue = 'Exited',data = dataframe, ax=axarr[0][0])\n",
    "sns.countplot(x='Gender', hue = 'Exited',data = dataframe, ax=axarr[0][1])\n",
    "sns.countplot(x='HasCrCard', hue = 'Exited',data = dataframe, ax=axarr[1][0])\n",
    "sns.countplot(x='IsActiveMember', hue = 'Exited',data = dataframe, ax=axarr[1][1])"
   ]
  },
  {
   "cell_type": "markdown",
   "id": "4cf205d9",
   "metadata": {},
   "source": [
    "Con estos gráficos comparativos podemos observar varias cosas:\n",
    " 1. La mayoría de los datos son de personas de Francia. Sin embargo, la proporción de clientes desvinculados está inversamente relacionada con la población de clientes, aludiendo a que el banco posiblemente tenga un problema (tal vez no haya asignado suficientes recursos de servicio al cliente) en las áreas donde tiene menos clientes.\n",
    " 2. La proporción de clientes mujeres que abandonan también es mayor que la de clientes masculinos.\n",
    " 3. Curiosamente, la mayoría de los clientes que abandonaron son aquellos con tarjetas de crédito. Dado que la mayoría de los clientes tienen tarjetas de crédito, podría ser solo una coincidencia; ya que la proporción de los clientes que se marchan y los que se quedan, que tienen tarjeta de crédito, es similar a la proporción de los que no la tienen.\n",
    " 4. Como era de esperar, los miembros inactivos tienen una mayor rotación. Lo preocupante es que la proporción general de miembros inactivos es bastante alta, lo que sugiere que el banco puede necesitar implementar un programa para convertir a este grupo en clientes activos, ya que esto definitivamente tendrá un impacto positivo en la rotación de clientes."
   ]
  },
  {
   "cell_type": "code",
   "execution_count": 8,
   "id": "a92a6c64",
   "metadata": {},
   "outputs": [
    {
     "data": {
      "text/plain": [
       "<Axes: xlabel='Exited', ylabel='EstimatedSalary'>"
      ]
     },
     "execution_count": 8,
     "metadata": {},
     "output_type": "execute_result"
    },
    {
     "data": {
      "image/png": "[encoded data removed]",
      "text/plain": [
       "<Figure size 2000x1200 with 6 Axes>"
      ]
     },
     "metadata": {},
     "output_type": "display_data"
    }
   ],
   "source": [
    "# Relaciones de los atributos continuos y el abandono.\n",
    "fig, axarr = plt.subplots(3, 2, figsize=(20, 12))\n",
    "sns.boxplot(y='CreditScore',x = 'Exited', hue = 'Exited',data = dataframe, ax=axarr[0][0])\n",
    "sns.boxplot(y='Age',x = 'Exited', hue = 'Exited',data = dataframe , ax=axarr[0][1])\n",
    "sns.boxplot(y='Tenure',x = 'Exited', hue = 'Exited',data = dataframe, ax=axarr[1][0])\n",
    "sns.boxplot(y='Balance',x = 'Exited', hue = 'Exited',data = dataframe, ax=axarr[1][1])\n",
    "sns.boxplot(y='NumOfProducts',x = 'Exited', hue = 'Exited',data = dataframe, ax=axarr[2][0])\n",
    "sns.boxplot(y='EstimatedSalary',x = 'Exited', hue = 'Exited',data = dataframe, ax=axarr[2][1])"
   ]
  },
  {
   "cell_type": "markdown",
   "id": "865d29a3",
   "metadata": {},
   "source": [
    "Aquí podemos observar lo siguiente:\n",
    "* No hay una diferencia significativa en la distribución de la puntuación crediticia entre los clientes retenidos y los que se han ido.\n",
    "* Los clientes de más edad cambian más que los más jóvenes, lo que indica una diferencia en la preferencia de servicio entre las categorías de edad. Es posible que el banco tenga que revisar su mercado objetivo o revisar la estrategia de retención entre los distintos grupos de edad.\n",
    "* Es preocupante que el banco esté perdiendo clientes con saldos bancarios significativos, lo que probablemente afectará su capital disponible para préstamos.\n",
    "* Ni el producto ni el salario tienen un efecto significativo en la probabilidad de abandono."
   ]
  },
  {
   "cell_type": "code",
   "execution_count": null,
   "id": "fd1da09a",
   "metadata": {},
   "outputs": [],
   "source": []
  },
  {
   "cell_type": "markdown",
   "id": "5ce46191",
   "metadata": {},
   "source": [
    "## Limpieza de datos."
   ]
  },
  {
   "cell_type": "markdown",
   "id": "2196531c",
   "metadata": {},
   "source": [
    "#### Valores Nulos.\n",
    "Vemos que no existen valores Nulos en ninguna columna.\n",
    "\n",
    "#### Conversión de valores.\n",
    "* Valores categóricos. Realizaremos agrupaciones para ver cuantos valores diferentes tienen, y después pasaremos cada valor a un número. Las columnas con este tipo de valores son: Geography y Gender.\n",
    "* Valores numéricos continuos: Los intentaremos agrupar en rangos utilizando las medidas de posición de estadística, para luego pasar cada rango a números concretos al igual que con los valores categóricos. Las columnas con  dichos valores son: CreditScore, Age, Balance y EstimatedSalary\n",
    "\n",
    "#### Eliminación de columnas.\n",
    "También hemos observado algunas columnas que parecen tener información que en principio no es relevante para el resultado. Estas columnas son:\n",
    "* \"RowNumber\". Se trata de un índice hace referencia al número de la columna en la que se encuentran los datos del cliente, por lo que no es ninguna característica o comportamiento del cliente que pueda afectar al resultado.\n",
    "* \"CustomerId\". Es la contraseña del cliente, este caso tampoco representa un valor util.\n",
    "* \"Surname\". El nombre o apellido del cliente tampoco influye en el abandono del banco.\n",
    "\n",
    "Con estas prácticas mejoraremos el rendimiento del modelo."
   ]
  },
  {
   "cell_type": "code",
   "execution_count": 8,
   "id": "9727f2a8",
   "metadata": {},
   "outputs": [
    {
     "data": {
      "text/html": [
       "<div>\n",
       "<style scoped>\n",
       "    .dataframe tbody tr th:only-of-type {\n",
       "        vertical-align: middle;\n",
       "    }\n",
       "\n",
       "    .dataframe tbody tr th {\n",
       "        vertical-align: top;\n",
       "    }\n",
       "\n",
       "    .dataframe thead th {\n",
       "        text-align: right;\n",
       "    }\n",
       "</style>\n",
       "<table border=\"1\" class=\"dataframe\">\n",
       "  <thead>\n",
       "    <tr style=\"text-align: right;\">\n",
       "      <th></th>\n",
       "      <th>RowNumber</th>\n",
       "      <th>CustomerId</th>\n",
       "      <th>Surname</th>\n",
       "      <th>CreditScore</th>\n",
       "      <th>Geography</th>\n",
       "      <th>Gender</th>\n",
       "      <th>Age</th>\n",
       "      <th>Tenure</th>\n",
       "      <th>Balance</th>\n",
       "      <th>NumOfProducts</th>\n",
       "      <th>HasCrCard</th>\n",
       "      <th>IsActiveMember</th>\n",
       "      <th>EstimatedSalary</th>\n",
       "    </tr>\n",
       "  </thead>\n",
       "  <tbody>\n",
       "    <tr>\n",
       "      <th>7974</th>\n",
       "      <td>7975</td>\n",
       "      <td>15722632</td>\n",
       "      <td>Dickson</td>\n",
       "      <td>716</td>\n",
       "      <td>Germany</td>\n",
       "      <td>Male</td>\n",
       "      <td>50</td>\n",
       "      <td>2</td>\n",
       "      <td>119655.77</td>\n",
       "      <td>1</td>\n",
       "      <td>1</td>\n",
       "      <td>1</td>\n",
       "      <td>12944.17</td>\n",
       "    </tr>\n",
       "    <tr>\n",
       "      <th>1771</th>\n",
       "      <td>1772</td>\n",
       "      <td>15633260</td>\n",
       "      <td>Dumetochukwu</td>\n",
       "      <td>600</td>\n",
       "      <td>France</td>\n",
       "      <td>Male</td>\n",
       "      <td>37</td>\n",
       "      <td>1</td>\n",
       "      <td>142663.46</td>\n",
       "      <td>1</td>\n",
       "      <td>0</td>\n",
       "      <td>1</td>\n",
       "      <td>88669.89</td>\n",
       "    </tr>\n",
       "    <tr>\n",
       "      <th>1462</th>\n",
       "      <td>1463</td>\n",
       "      <td>15566211</td>\n",
       "      <td>Hsu</td>\n",
       "      <td>616</td>\n",
       "      <td>Germany</td>\n",
       "      <td>Female</td>\n",
       "      <td>41</td>\n",
       "      <td>1</td>\n",
       "      <td>103560.57</td>\n",
       "      <td>1</td>\n",
       "      <td>1</td>\n",
       "      <td>0</td>\n",
       "      <td>236.45</td>\n",
       "    </tr>\n",
       "    <tr>\n",
       "      <th>7876</th>\n",
       "      <td>7877</td>\n",
       "      <td>15757607</td>\n",
       "      <td>Matveyeva</td>\n",
       "      <td>623</td>\n",
       "      <td>France</td>\n",
       "      <td>Male</td>\n",
       "      <td>45</td>\n",
       "      <td>0</td>\n",
       "      <td>0.00</td>\n",
       "      <td>1</td>\n",
       "      <td>1</td>\n",
       "      <td>0</td>\n",
       "      <td>196533.72</td>\n",
       "    </tr>\n",
       "    <tr>\n",
       "      <th>8351</th>\n",
       "      <td>8352</td>\n",
       "      <td>15650751</td>\n",
       "      <td>Butler</td>\n",
       "      <td>585</td>\n",
       "      <td>France</td>\n",
       "      <td>Female</td>\n",
       "      <td>30</td>\n",
       "      <td>6</td>\n",
       "      <td>0.00</td>\n",
       "      <td>2</td>\n",
       "      <td>1</td>\n",
       "      <td>1</td>\n",
       "      <td>137757.69</td>\n",
       "    </tr>\n",
       "    <tr>\n",
       "      <th>...</th>\n",
       "      <td>...</td>\n",
       "      <td>...</td>\n",
       "      <td>...</td>\n",
       "      <td>...</td>\n",
       "      <td>...</td>\n",
       "      <td>...</td>\n",
       "      <td>...</td>\n",
       "      <td>...</td>\n",
       "      <td>...</td>\n",
       "      <td>...</td>\n",
       "      <td>...</td>\n",
       "      <td>...</td>\n",
       "      <td>...</td>\n",
       "    </tr>\n",
       "    <tr>\n",
       "      <th>9167</th>\n",
       "      <td>9168</td>\n",
       "      <td>15645353</td>\n",
       "      <td>Chubb</td>\n",
       "      <td>607</td>\n",
       "      <td>France</td>\n",
       "      <td>Male</td>\n",
       "      <td>26</td>\n",
       "      <td>1</td>\n",
       "      <td>0.00</td>\n",
       "      <td>1</td>\n",
       "      <td>1</td>\n",
       "      <td>0</td>\n",
       "      <td>29818.20</td>\n",
       "    </tr>\n",
       "    <tr>\n",
       "      <th>9864</th>\n",
       "      <td>9865</td>\n",
       "      <td>15652999</td>\n",
       "      <td>Milne</td>\n",
       "      <td>742</td>\n",
       "      <td>Germany</td>\n",
       "      <td>Male</td>\n",
       "      <td>33</td>\n",
       "      <td>1</td>\n",
       "      <td>137937.95</td>\n",
       "      <td>1</td>\n",
       "      <td>1</td>\n",
       "      <td>1</td>\n",
       "      <td>51387.10</td>\n",
       "    </tr>\n",
       "    <tr>\n",
       "      <th>5947</th>\n",
       "      <td>5948</td>\n",
       "      <td>15672798</td>\n",
       "      <td>O'Brien</td>\n",
       "      <td>656</td>\n",
       "      <td>France</td>\n",
       "      <td>Female</td>\n",
       "      <td>45</td>\n",
       "      <td>7</td>\n",
       "      <td>145933.27</td>\n",
       "      <td>1</td>\n",
       "      <td>1</td>\n",
       "      <td>1</td>\n",
       "      <td>199392.14</td>\n",
       "    </tr>\n",
       "    <tr>\n",
       "      <th>8648</th>\n",
       "      <td>8649</td>\n",
       "      <td>15683053</td>\n",
       "      <td>Reyna</td>\n",
       "      <td>809</td>\n",
       "      <td>Spain</td>\n",
       "      <td>Female</td>\n",
       "      <td>48</td>\n",
       "      <td>2</td>\n",
       "      <td>0.00</td>\n",
       "      <td>1</td>\n",
       "      <td>1</td>\n",
       "      <td>0</td>\n",
       "      <td>160976.85</td>\n",
       "    </tr>\n",
       "    <tr>\n",
       "      <th>1150</th>\n",
       "      <td>1151</td>\n",
       "      <td>15722993</td>\n",
       "      <td>Page</td>\n",
       "      <td>700</td>\n",
       "      <td>France</td>\n",
       "      <td>Female</td>\n",
       "      <td>27</td>\n",
       "      <td>6</td>\n",
       "      <td>137963.07</td>\n",
       "      <td>1</td>\n",
       "      <td>0</td>\n",
       "      <td>0</td>\n",
       "      <td>8996.79</td>\n",
       "    </tr>\n",
       "  </tbody>\n",
       "</table>\n",
       "<p>10000 rows × 13 columns</p>\n",
       "</div>"
      ],
      "text/plain": [
       "      RowNumber  CustomerId       Surname  CreditScore Geography  Gender  Age  \\\n",
       "7974       7975    15722632       Dickson          716   Germany    Male   50   \n",
       "1771       1772    15633260  Dumetochukwu          600    France    Male   37   \n",
       "1462       1463    15566211           Hsu          616   Germany  Female   41   \n",
       "7876       7877    15757607     Matveyeva          623    France    Male   45   \n",
       "8351       8352    15650751        Butler          585    France  Female   30   \n",
       "...         ...         ...           ...          ...       ...     ...  ...   \n",
       "9167       9168    15645353         Chubb          607    France    Male   26   \n",
       "9864       9865    15652999         Milne          742   Germany    Male   33   \n",
       "5947       5948    15672798       O'Brien          656    France  Female   45   \n",
       "8648       8649    15683053         Reyna          809     Spain  Female   48   \n",
       "1150       1151    15722993          Page          700    France  Female   27   \n",
       "\n",
       "      Tenure    Balance  NumOfProducts  HasCrCard  IsActiveMember  \\\n",
       "7974       2  119655.77              1          1               1   \n",
       "1771       1  142663.46              1          0               1   \n",
       "1462       1  103560.57              1          1               0   \n",
       "7876       0       0.00              1          1               0   \n",
       "8351       6       0.00              2          1               1   \n",
       "...      ...        ...            ...        ...             ...   \n",
       "9167       1       0.00              1          1               0   \n",
       "9864       1  137937.95              1          1               1   \n",
       "5947       7  145933.27              1          1               1   \n",
       "8648       2       0.00              1          1               0   \n",
       "1150       6  137963.07              1          0               0   \n",
       "\n",
       "      EstimatedSalary  \n",
       "7974         12944.17  \n",
       "1771         88669.89  \n",
       "1462           236.45  \n",
       "7876        196533.72  \n",
       "8351        137757.69  \n",
       "...               ...  \n",
       "9167         29818.20  \n",
       "9864         51387.10  \n",
       "5947        199392.14  \n",
       "8648        160976.85  \n",
       "1150          8996.79  \n",
       "\n",
       "[10000 rows x 13 columns]"
      ]
     },
     "execution_count": 8,
     "metadata": {},
     "output_type": "execute_result"
    }
   ],
   "source": [
    "# Para facilitar y evitar la repetición de operaciones, vamos a crear una variable que sea la unión de \n",
    "# los dos dataframes de datos, para operar directamente sobre todo el conjunto de los 1000 datos.\n",
    "\n",
    "# Para ello utilizaremos el método \".concat()\", al que le pasaremos como primer parámetro una lista con\n",
    "# los dataframes que queramos concatenar, y como segundo parámetro \"axis=0\" para concatenar las filas.\n",
    "datos = pd.concat([X_train, X_test], axis=0)\n",
    "datos"
   ]
  },
  {
   "cell_type": "code",
   "execution_count": 9,
   "id": "e5b74595",
   "metadata": {},
   "outputs": [
    {
     "name": "stdout",
     "output_type": "stream",
     "text": [
      "<class 'pandas.core.frame.DataFrame'>\n",
      "Int64Index: 10000 entries, 7974 to 1150\n",
      "Data columns (total 13 columns):\n",
      " #   Column           Non-Null Count  Dtype  \n",
      "---  ------           --------------  -----  \n",
      " 0   RowNumber        10000 non-null  int64  \n",
      " 1   CustomerId       10000 non-null  int64  \n",
      " 2   Surname          10000 non-null  object \n",
      " 3   CreditScore      10000 non-null  int64  \n",
      " 4   Geography        10000 non-null  object \n",
      " 5   Gender           10000 non-null  object \n",
      " 6   Age              10000 non-null  int64  \n",
      " 7   Tenure           10000 non-null  int64  \n",
      " 8   Balance          10000 non-null  float64\n",
      " 9   NumOfProducts    10000 non-null  int64  \n",
      " 10  HasCrCard        10000 non-null  int64  \n",
      " 11  IsActiveMember   10000 non-null  int64  \n",
      " 12  EstimatedSalary  10000 non-null  float64\n",
      "dtypes: float64(2), int64(8), object(3)\n",
      "memory usage: 1.1+ MB\n"
     ]
    }
   ],
   "source": [
    "# Con el método \".info()\" podemos ver algo más de información, como que ninguna de las columnas tiene \n",
    "# valores NaN.\n",
    "datos.info()"
   ]
  },
  {
   "cell_type": "markdown",
   "id": "d7a61171",
   "metadata": {},
   "source": [
    "### Conversión de valores categóricos."
   ]
  },
  {
   "cell_type": "markdown",
   "id": "95d279d9",
   "metadata": {},
   "source": [
    "Columna \"Gender\", conversión a valores numéricos."
   ]
  },
  {
   "cell_type": "code",
   "execution_count": 10,
   "id": "77a78518",
   "metadata": {},
   "outputs": [],
   "source": [
    "# Usamos el método \".map\" para realizar un mapeo de los valores de la columna, y le pasamos como parámetro\n",
    "# un diccionario en el cual las claves se corresponden a los valores de la columna y sus valores son\n",
    "# los que queremos sustituir en su lugar.\n",
    "datos[\"Gender\"] = datos[\"Gender\"].map( {'Female': 1, 'Male': 0} ).astype(int)"
   ]
  },
  {
   "cell_type": "code",
   "execution_count": 11,
   "id": "b80565b2",
   "metadata": {},
   "outputs": [
    {
     "data": {
      "text/plain": [
       "7974    0\n",
       "1771    0\n",
       "1462    1\n",
       "7876    0\n",
       "8351    1\n",
       "       ..\n",
       "9167    0\n",
       "9864    0\n",
       "5947    1\n",
       "8648    1\n",
       "1150    1\n",
       "Name: Gender, Length: 10000, dtype: int32"
      ]
     },
     "execution_count": 11,
     "metadata": {},
     "output_type": "execute_result"
    }
   ],
   "source": [
    "datos[\"Gender\"]"
   ]
  },
  {
   "cell_type": "markdown",
   "id": "d0b6c17b",
   "metadata": {},
   "source": [
    "Columna \"Geography\", conversión a valores numéricos."
   ]
  },
  {
   "cell_type": "code",
   "execution_count": 12,
   "id": "e4c2038e",
   "metadata": {},
   "outputs": [
    {
     "data": {
      "text/plain": [
       "Geography\n",
       "France     5014\n",
       "Germany    2509\n",
       "Spain      2477\n",
       "dtype: int64"
      ]
     },
     "execution_count": 12,
     "metadata": {},
     "output_type": "execute_result"
    }
   ],
   "source": [
    "# Agrupamos por \"Geography\" y vemos las concurrencias, para ver cuantos valores encontramos en dicha columna.\n",
    "group = datos.groupby(\"Geography\")\n",
    "group.size()"
   ]
  },
  {
   "cell_type": "code",
   "execution_count": 13,
   "id": "b3326a81",
   "metadata": {},
   "outputs": [],
   "source": [
    "# Una vez sabemos los distintos valores que se encuentran en la columna, repetimos el proceso de \"Gender\"\n",
    "# adaptando el diccionario que le pasamos a los valores de la columna.\n",
    "datos[\"Geography\"] = datos[\"Geography\"].map( {'France': 2, 'Germany': 1, 'Spain': 0} ).astype(int)"
   ]
  },
  {
   "cell_type": "code",
   "execution_count": 14,
   "id": "e392d36e",
   "metadata": {},
   "outputs": [
    {
     "data": {
      "text/plain": [
       "7974    1\n",
       "1771    2\n",
       "1462    1\n",
       "7876    2\n",
       "8351    2\n",
       "       ..\n",
       "9167    2\n",
       "9864    1\n",
       "5947    2\n",
       "8648    0\n",
       "1150    2\n",
       "Name: Geography, Length: 10000, dtype: int32"
      ]
     },
     "execution_count": 14,
     "metadata": {},
     "output_type": "execute_result"
    }
   ],
   "source": [
    "datos[\"Geography\"]"
   ]
  },
  {
   "cell_type": "markdown",
   "id": "711c4811",
   "metadata": {},
   "source": [
    "Columna \"Tenure\"."
   ]
  },
  {
   "cell_type": "code",
   "execution_count": 15,
   "id": "6dec19ce",
   "metadata": {},
   "outputs": [
    {
     "data": {
      "text/plain": [
       "Tenure\n",
       "0      413\n",
       "1     1035\n",
       "2     1048\n",
       "3     1009\n",
       "4      989\n",
       "5     1012\n",
       "6      967\n",
       "7     1028\n",
       "8     1025\n",
       "9      984\n",
       "10     490\n",
       "dtype: int64"
      ]
     },
     "execution_count": 15,
     "metadata": {},
     "output_type": "execute_result"
    }
   ],
   "source": [
    "# En primer lugar agrupamos por cada valor que se encuentra en la columna y vemos sus concurrencias.\n",
    "# Esto nos permite detectar si hay un número demasiado grande de valores distintos o estan muy alejados.\n",
    "# En cuyo caso hubieramos tenido que tratarlo como un valor numérico continuo y realizar rangos, para\n",
    "# después igualarlos a un número.\n",
    "group = datos.groupby(\"Tenure\")\n",
    "group.size()"
   ]
  },
  {
   "cell_type": "markdown",
   "id": "65976782",
   "metadata": {},
   "source": [
    "### Conversión de valores numéricos continuos."
   ]
  },
  {
   "cell_type": "markdown",
   "id": "8df3f653",
   "metadata": {},
   "source": [
    "Columna \"CreditScore\""
   ]
  },
  {
   "cell_type": "code",
   "execution_count": 16,
   "id": "d124c16a",
   "metadata": {},
   "outputs": [],
   "source": [
    "# Generamos rangos de edad para simplificar su columna.\n",
    "# El método \"cut()\" recibe la columna a dividir y el número de partes.\n",
    "datos[\"CreditScore\"] = pd.cut(datos[\"CreditScore\"], 5)"
   ]
  },
  {
   "cell_type": "code",
   "execution_count": 17,
   "id": "53df2bfa",
   "metadata": {},
   "outputs": [
    {
     "data": {
      "text/plain": [
       "CreditScore\n",
       "(349.5, 450.0]     189\n",
       "(450.0, 550.0]    1432\n",
       "(550.0, 650.0]    3316\n",
       "(650.0, 750.0]    3465\n",
       "(750.0, 850.0]    1598\n",
       "dtype: int64"
      ]
     },
     "execution_count": 17,
     "metadata": {},
     "output_type": "execute_result"
    }
   ],
   "source": [
    "# Agrupamos por \"CreditScore\".\n",
    "group = datos.groupby(\"CreditScore\")\n",
    "\n",
    "# Mostramos los rangos generados y sus concurrencias.\n",
    "group.size()"
   ]
  },
  {
   "cell_type": "code",
   "execution_count": 18,
   "id": "788efaa7",
   "metadata": {},
   "outputs": [],
   "source": [
    "# A continuación, utilizamos el método \".cat.codes\" para obtener los códigos numéricos correspondientes \n",
    "# a cada categoría en la columna. Y el método \".astype()\" para estos códigos en calores tipo \"int\".\n",
    "\n",
    "# Convertir la columna categórica de rangos, en una columna de números concretos de tipo \"int\".\n",
    "datos[\"CreditScore\"] = datos[\"CreditScore\"].cat.codes.astype(int)"
   ]
  },
  {
   "cell_type": "code",
   "execution_count": 19,
   "id": "f60388a6",
   "metadata": {},
   "outputs": [
    {
     "data": {
      "text/plain": [
       "CreditScore\n",
       "0     189\n",
       "1    1432\n",
       "2    3316\n",
       "3    3465\n",
       "4    1598\n",
       "dtype: int64"
      ]
     },
     "execution_count": 19,
     "metadata": {},
     "output_type": "execute_result"
    }
   ],
   "source": [
    "# Agrupamos por \"CreditScore\".\n",
    "group = datos.groupby(\"CreditScore\")\n",
    "\n",
    "# Mostramos los valores dados a cada rango y sus concurrencias.\n",
    "group.size()"
   ]
  },
  {
   "cell_type": "markdown",
   "id": "5eba1eed",
   "metadata": {},
   "source": [
    "Columna \"Age\""
   ]
  },
  {
   "cell_type": "code",
   "execution_count": 20,
   "id": "61c9d487",
   "metadata": {},
   "outputs": [],
   "source": [
    "# Repetimos el proceso anterior.\n",
    "\n",
    "# Generamos rangos de edad para simplificar su columna.\n",
    "# El método \"cut()\" recibe la columna a dividir y el número de partes.\n",
    "datos[\"Age\"] = pd.cut(datos[\"Age\"], 5)"
   ]
  },
  {
   "cell_type": "code",
   "execution_count": 21,
   "id": "5aa49292",
   "metadata": {},
   "outputs": [
    {
     "data": {
      "text/plain": [
       "Age\n",
       "(17.926, 32.8]    2790\n",
       "(32.8, 47.6]      5500\n",
       "(47.6, 62.4]      1351\n",
       "(62.4, 77.2]       335\n",
       "(77.2, 92.0]        24\n",
       "dtype: int64"
      ]
     },
     "execution_count": 21,
     "metadata": {},
     "output_type": "execute_result"
    }
   ],
   "source": [
    "# Agrupamos por \"CreditScore\".\n",
    "group = datos.groupby(\"Age\")\n",
    "\n",
    "# Mostramos los rangos generados y sus concurrencias.\n",
    "group.size()"
   ]
  },
  {
   "cell_type": "code",
   "execution_count": 22,
   "id": "9897617b",
   "metadata": {},
   "outputs": [],
   "source": [
    "# A continuación, utilizamos el método \".cat.codes\" para obtener los códigos numéricos correspondientes \n",
    "# a cada categoría en la columna. Y el método \".astype()\" para estos códigos en calores tipo \"int\".\n",
    "\n",
    "# Convertir la columna categórica de rangos, en una columna de números concretos de tipo \"int\".\n",
    "datos[\"Age\"] = datos[\"Age\"].cat.codes.astype(int)"
   ]
  },
  {
   "cell_type": "code",
   "execution_count": 23,
   "id": "dd60d6e9",
   "metadata": {},
   "outputs": [
    {
     "data": {
      "text/plain": [
       "CreditScore\n",
       "0     189\n",
       "1    1432\n",
       "2    3316\n",
       "3    3465\n",
       "4    1598\n",
       "dtype: int64"
      ]
     },
     "execution_count": 23,
     "metadata": {},
     "output_type": "execute_result"
    }
   ],
   "source": [
    "# Agrupamos por \"CreditScore\".\n",
    "group = datos.groupby(\"CreditScore\")\n",
    "\n",
    "# Mostramos los valores dados a cada rango y sus concurrencias.\n",
    "group.size()"
   ]
  },
  {
   "cell_type": "markdown",
   "id": "d134d2cf",
   "metadata": {},
   "source": [
    "Columna \"Balance\""
   ]
  },
  {
   "cell_type": "code",
   "execution_count": 24,
   "id": "823bb373",
   "metadata": {},
   "outputs": [],
   "source": [
    "# Repetimos el proceso anterior.\n",
    "\n",
    "# Generamos rangos de edad para simplificar su columna.\n",
    "# El método \"cut()\" recibe la columna a dividir y el número de partes.\n",
    "datos[\"Balance\"] = pd.cut(datos[\"Balance\"], 5)"
   ]
  },
  {
   "cell_type": "code",
   "execution_count": 25,
   "id": "ae5cbc08",
   "metadata": {},
   "outputs": [
    {
     "data": {
      "text/plain": [
       "Balance\n",
       "(-250.898, 50179.618]       3692\n",
       "(50179.618, 100359.236]     1533\n",
       "(100359.236, 150538.854]    3828\n",
       "(150538.854, 200718.472]     915\n",
       "(200718.472, 250898.09]       32\n",
       "dtype: int64"
      ]
     },
     "execution_count": 25,
     "metadata": {},
     "output_type": "execute_result"
    }
   ],
   "source": [
    "# Agrupamos por \"CreditScore\".\n",
    "group = datos.groupby(\"Balance\")\n",
    "\n",
    "# Mostramos los rangos generados y sus concurrencias.\n",
    "group.size()"
   ]
  },
  {
   "cell_type": "code",
   "execution_count": 26,
   "id": "bbeda682",
   "metadata": {},
   "outputs": [],
   "source": [
    "# A continuación, utilizamos el método \".cat.codes\" para obtener los códigos numéricos correspondientes \n",
    "# a cada categoría en la columna. Y el método \".astype()\" para estos códigos en calores tipo \"int\".\n",
    "\n",
    "# Convertir la columna categórica de rangos, en una columna de números concretos de tipo \"int\".\n",
    "datos[\"Balance\"] = datos[\"Balance\"].cat.codes.astype(int)"
   ]
  },
  {
   "cell_type": "code",
   "execution_count": 27,
   "id": "6c2270d8",
   "metadata": {},
   "outputs": [
    {
     "data": {
      "text/plain": [
       "Balance\n",
       "0    3692\n",
       "1    1533\n",
       "2    3828\n",
       "3     915\n",
       "4      32\n",
       "dtype: int64"
      ]
     },
     "execution_count": 27,
     "metadata": {},
     "output_type": "execute_result"
    }
   ],
   "source": [
    "# Agrupamos por \"CreditScore\".\n",
    "group = datos.groupby(\"Balance\")\n",
    "\n",
    "# Mostramos los valores dados a cada rango y sus concurrencias.\n",
    "group.size()"
   ]
  },
  {
   "cell_type": "markdown",
   "id": "d3a63fec",
   "metadata": {},
   "source": [
    "Columna \"EstimatedSalary\""
   ]
  },
  {
   "cell_type": "code",
   "execution_count": 28,
   "id": "03745cef",
   "metadata": {},
   "outputs": [],
   "source": [
    "# Repetimos el proceso anterior.\n",
    "\n",
    "# Generamos rangos de edad para simplificar su columna.\n",
    "# El método \"cut()\" recibe la columna a dividir y el número de partes.\n",
    "datos[\"EstimatedSalary\"] = pd.cut(datos[\"EstimatedSalary\"], 5)"
   ]
  },
  {
   "cell_type": "code",
   "execution_count": 29,
   "id": "c3c66e57",
   "metadata": {},
   "outputs": [
    {
     "data": {
      "text/plain": [
       "EstimatedSalary\n",
       "(-188.401, 40007.76]     1955\n",
       "(40007.76, 80003.94]     2033\n",
       "(80003.94, 120000.12]    2029\n",
       "(120000.12, 159996.3]    1989\n",
       "(159996.3, 199992.48]    1994\n",
       "dtype: int64"
      ]
     },
     "execution_count": 29,
     "metadata": {},
     "output_type": "execute_result"
    }
   ],
   "source": [
    "# Agrupamos por \"CreditScore\".\n",
    "group = datos.groupby(\"EstimatedSalary\")\n",
    "\n",
    "# Mostramos los rangos generados y sus concurrencias.\n",
    "group.size()"
   ]
  },
  {
   "cell_type": "code",
   "execution_count": 30,
   "id": "67dad1aa",
   "metadata": {},
   "outputs": [],
   "source": [
    "# A continuación, utilizamos el método \".cat.codes\" para obtener los códigos numéricos correspondientes \n",
    "# a cada categoría en la columna. Y el método \".astype()\" para estos códigos en calores tipo \"int\".\n",
    "\n",
    "# Convertir la columna categórica de rangos, en una columna de números concretos de tipo \"int\".\n",
    "datos[\"EstimatedSalary\"] = datos[\"EstimatedSalary\"].cat.codes.astype(int)"
   ]
  },
  {
   "cell_type": "code",
   "execution_count": 31,
   "id": "0d32710e",
   "metadata": {},
   "outputs": [
    {
     "data": {
      "text/plain": [
       "EstimatedSalary\n",
       "0    1955\n",
       "1    2033\n",
       "2    2029\n",
       "3    1989\n",
       "4    1994\n",
       "dtype: int64"
      ]
     },
     "execution_count": 31,
     "metadata": {},
     "output_type": "execute_result"
    }
   ],
   "source": [
    "# Agrupamos por \"CreditScore\".\n",
    "group = datos.groupby(\"EstimatedSalary\")\n",
    "\n",
    "# Mostramos los valores dados a cada rango y sus concurrencias.\n",
    "group.size()"
   ]
  },
  {
   "cell_type": "code",
   "execution_count": null,
   "id": "39898f85",
   "metadata": {},
   "outputs": [],
   "source": []
  },
  {
   "cell_type": "markdown",
   "id": "4d25dae9",
   "metadata": {},
   "source": [
    "### Eliminación de columnas"
   ]
  },
  {
   "cell_type": "markdown",
   "id": "c2b46b86",
   "metadata": {},
   "source": [
    "Columna \"RowNumber\", \"CustomerId\" y \"Surname\"."
   ]
  },
  {
   "cell_type": "code",
   "execution_count": 32,
   "id": "b4f1eeb8",
   "metadata": {},
   "outputs": [],
   "source": [
    "# Eliminamos las columnas cuyos datos creemos son irrelevantes.\n",
    "datos = datos.drop(['RowNumber', 'CustomerId', 'Surname'], axis=1)"
   ]
  },
  {
   "cell_type": "code",
   "execution_count": 33,
   "id": "cacffbe3",
   "metadata": {},
   "outputs": [
    {
     "data": {
      "text/html": [
       "<div>\n",
       "<style scoped>\n",
       "    .dataframe tbody tr th:only-of-type {\n",
       "        vertical-align: middle;\n",
       "    }\n",
       "\n",
       "    .dataframe tbody tr th {\n",
       "        vertical-align: top;\n",
       "    }\n",
       "\n",
       "    .dataframe thead th {\n",
       "        text-align: right;\n",
       "    }\n",
       "</style>\n",
       "<table border=\"1\" class=\"dataframe\">\n",
       "  <thead>\n",
       "    <tr style=\"text-align: right;\">\n",
       "      <th></th>\n",
       "      <th>CreditScore</th>\n",
       "      <th>Geography</th>\n",
       "      <th>Gender</th>\n",
       "      <th>Age</th>\n",
       "      <th>Tenure</th>\n",
       "      <th>Balance</th>\n",
       "      <th>NumOfProducts</th>\n",
       "      <th>HasCrCard</th>\n",
       "      <th>IsActiveMember</th>\n",
       "      <th>EstimatedSalary</th>\n",
       "    </tr>\n",
       "  </thead>\n",
       "  <tbody>\n",
       "    <tr>\n",
       "      <th>7974</th>\n",
       "      <td>3</td>\n",
       "      <td>1</td>\n",
       "      <td>0</td>\n",
       "      <td>2</td>\n",
       "      <td>2</td>\n",
       "      <td>2</td>\n",
       "      <td>1</td>\n",
       "      <td>1</td>\n",
       "      <td>1</td>\n",
       "      <td>0</td>\n",
       "    </tr>\n",
       "    <tr>\n",
       "      <th>1771</th>\n",
       "      <td>2</td>\n",
       "      <td>2</td>\n",
       "      <td>0</td>\n",
       "      <td>1</td>\n",
       "      <td>1</td>\n",
       "      <td>2</td>\n",
       "      <td>1</td>\n",
       "      <td>0</td>\n",
       "      <td>1</td>\n",
       "      <td>2</td>\n",
       "    </tr>\n",
       "    <tr>\n",
       "      <th>1462</th>\n",
       "      <td>2</td>\n",
       "      <td>1</td>\n",
       "      <td>1</td>\n",
       "      <td>1</td>\n",
       "      <td>1</td>\n",
       "      <td>2</td>\n",
       "      <td>1</td>\n",
       "      <td>1</td>\n",
       "      <td>0</td>\n",
       "      <td>0</td>\n",
       "    </tr>\n",
       "    <tr>\n",
       "      <th>7876</th>\n",
       "      <td>2</td>\n",
       "      <td>2</td>\n",
       "      <td>0</td>\n",
       "      <td>1</td>\n",
       "      <td>0</td>\n",
       "      <td>0</td>\n",
       "      <td>1</td>\n",
       "      <td>1</td>\n",
       "      <td>0</td>\n",
       "      <td>4</td>\n",
       "    </tr>\n",
       "    <tr>\n",
       "      <th>8351</th>\n",
       "      <td>2</td>\n",
       "      <td>2</td>\n",
       "      <td>1</td>\n",
       "      <td>0</td>\n",
       "      <td>6</td>\n",
       "      <td>0</td>\n",
       "      <td>2</td>\n",
       "      <td>1</td>\n",
       "      <td>1</td>\n",
       "      <td>3</td>\n",
       "    </tr>\n",
       "    <tr>\n",
       "      <th>...</th>\n",
       "      <td>...</td>\n",
       "      <td>...</td>\n",
       "      <td>...</td>\n",
       "      <td>...</td>\n",
       "      <td>...</td>\n",
       "      <td>...</td>\n",
       "      <td>...</td>\n",
       "      <td>...</td>\n",
       "      <td>...</td>\n",
       "      <td>...</td>\n",
       "    </tr>\n",
       "    <tr>\n",
       "      <th>9167</th>\n",
       "      <td>2</td>\n",
       "      <td>2</td>\n",
       "      <td>0</td>\n",
       "      <td>0</td>\n",
       "      <td>1</td>\n",
       "      <td>0</td>\n",
       "      <td>1</td>\n",
       "      <td>1</td>\n",
       "      <td>0</td>\n",
       "      <td>0</td>\n",
       "    </tr>\n",
       "    <tr>\n",
       "      <th>9864</th>\n",
       "      <td>3</td>\n",
       "      <td>1</td>\n",
       "      <td>0</td>\n",
       "      <td>1</td>\n",
       "      <td>1</td>\n",
       "      <td>2</td>\n",
       "      <td>1</td>\n",
       "      <td>1</td>\n",
       "      <td>1</td>\n",
       "      <td>1</td>\n",
       "    </tr>\n",
       "    <tr>\n",
       "      <th>5947</th>\n",
       "      <td>3</td>\n",
       "      <td>2</td>\n",
       "      <td>1</td>\n",
       "      <td>1</td>\n",
       "      <td>7</td>\n",
       "      <td>2</td>\n",
       "      <td>1</td>\n",
       "      <td>1</td>\n",
       "      <td>1</td>\n",
       "      <td>4</td>\n",
       "    </tr>\n",
       "    <tr>\n",
       "      <th>8648</th>\n",
       "      <td>4</td>\n",
       "      <td>0</td>\n",
       "      <td>1</td>\n",
       "      <td>2</td>\n",
       "      <td>2</td>\n",
       "      <td>0</td>\n",
       "      <td>1</td>\n",
       "      <td>1</td>\n",
       "      <td>0</td>\n",
       "      <td>4</td>\n",
       "    </tr>\n",
       "    <tr>\n",
       "      <th>1150</th>\n",
       "      <td>3</td>\n",
       "      <td>2</td>\n",
       "      <td>1</td>\n",
       "      <td>0</td>\n",
       "      <td>6</td>\n",
       "      <td>2</td>\n",
       "      <td>1</td>\n",
       "      <td>0</td>\n",
       "      <td>0</td>\n",
       "      <td>0</td>\n",
       "    </tr>\n",
       "  </tbody>\n",
       "</table>\n",
       "<p>10000 rows × 10 columns</p>\n",
       "</div>"
      ],
      "text/plain": [
       "      CreditScore  Geography  Gender  Age  Tenure  Balance  NumOfProducts  \\\n",
       "7974            3          1       0    2       2        2              1   \n",
       "1771            2          2       0    1       1        2              1   \n",
       "1462            2          1       1    1       1        2              1   \n",
       "7876            2          2       0    1       0        0              1   \n",
       "8351            2          2       1    0       6        0              2   \n",
       "...           ...        ...     ...  ...     ...      ...            ...   \n",
       "9167            2          2       0    0       1        0              1   \n",
       "9864            3          1       0    1       1        2              1   \n",
       "5947            3          2       1    1       7        2              1   \n",
       "8648            4          0       1    2       2        0              1   \n",
       "1150            3          2       1    0       6        2              1   \n",
       "\n",
       "      HasCrCard  IsActiveMember  EstimatedSalary  \n",
       "7974          1               1                0  \n",
       "1771          0               1                2  \n",
       "1462          1               0                0  \n",
       "7876          1               0                4  \n",
       "8351          1               1                3  \n",
       "...         ...             ...              ...  \n",
       "9167          1               0                0  \n",
       "9864          1               1                1  \n",
       "5947          1               1                4  \n",
       "8648          1               0                4  \n",
       "1150          0               0                0  \n",
       "\n",
       "[10000 rows x 10 columns]"
      ]
     },
     "execution_count": 33,
     "metadata": {},
     "output_type": "execute_result"
    }
   ],
   "source": [
    "# Y mostramos el dataframe completo para ver como ha quedado con todos los cambios.\n",
    "datos"
   ]
  },
  {
   "cell_type": "code",
   "execution_count": null,
   "id": "59eb7019",
   "metadata": {},
   "outputs": [],
   "source": []
  },
  {
   "cell_type": "markdown",
   "id": "7a7203f5",
   "metadata": {},
   "source": [
    "# Machine Learning (Predicción)"
   ]
  },
  {
   "cell_type": "markdown",
   "id": "274c998e",
   "metadata": {},
   "source": [
    "## Escoger modelo y justificarlo."
   ]
  },
  {
   "cell_type": "markdown",
   "id": "af370c78",
   "metadata": {},
   "source": [
    "Al ser un problema del que tenemos los resultados de los datos revisamos el conjunto de modelos de \"Apredizaje supervisado\", además en este caso queremos clasificar los clientes que han abandonado el banco y los que siguen alli, es decir es un problema de clasificacíon; por lo que los modelos que evaluaremos seran los siguientes:\n",
    "\n",
    "* LogisticRegression (regresión logística)\n",
    "* DecisionTreeClassifier (árbol de decisión)\n",
    "* RandomForestClassifier\n",
    "* SVC (Support Vector Machines)\n",
    "* LinearSVC\n",
    "* GaussianNB\n",
    "* KNeighborsClassifier"
   ]
  },
  {
   "cell_type": "code",
   "execution_count": 34,
   "id": "ca6f8404",
   "metadata": {},
   "outputs": [],
   "source": [
    "# Volvemos a dividir el dataset de los datos, en conjunto de pruebas y conjunto de test\n",
    "X_train = datos[:7500]\n",
    "X_test = datos[7500:]"
   ]
  },
  {
   "cell_type": "code",
   "execution_count": 36,
   "id": "0fd2652c",
   "metadata": {},
   "outputs": [
    {
     "data": {
      "text/html": [
       "<div>\n",
       "<style scoped>\n",
       "    .dataframe tbody tr th:only-of-type {\n",
       "        vertical-align: middle;\n",
       "    }\n",
       "\n",
       "    .dataframe tbody tr th {\n",
       "        vertical-align: top;\n",
       "    }\n",
       "\n",
       "    .dataframe thead th {\n",
       "        text-align: right;\n",
       "    }\n",
       "</style>\n",
       "<table border=\"1\" class=\"dataframe\">\n",
       "  <thead>\n",
       "    <tr style=\"text-align: right;\">\n",
       "      <th></th>\n",
       "      <th>CreditScore</th>\n",
       "      <th>Geography</th>\n",
       "      <th>Gender</th>\n",
       "      <th>Age</th>\n",
       "      <th>Tenure</th>\n",
       "      <th>Balance</th>\n",
       "      <th>NumOfProducts</th>\n",
       "      <th>HasCrCard</th>\n",
       "      <th>IsActiveMember</th>\n",
       "      <th>EstimatedSalary</th>\n",
       "    </tr>\n",
       "  </thead>\n",
       "  <tbody>\n",
       "    <tr>\n",
       "      <th>2176</th>\n",
       "      <td>3</td>\n",
       "      <td>0</td>\n",
       "      <td>0</td>\n",
       "      <td>1</td>\n",
       "      <td>2</td>\n",
       "      <td>3</td>\n",
       "      <td>2</td>\n",
       "      <td>1</td>\n",
       "      <td>1</td>\n",
       "      <td>1</td>\n",
       "    </tr>\n",
       "    <tr>\n",
       "      <th>615</th>\n",
       "      <td>3</td>\n",
       "      <td>0</td>\n",
       "      <td>1</td>\n",
       "      <td>0</td>\n",
       "      <td>0</td>\n",
       "      <td>0</td>\n",
       "      <td>1</td>\n",
       "      <td>1</td>\n",
       "      <td>0</td>\n",
       "      <td>3</td>\n",
       "    </tr>\n",
       "    <tr>\n",
       "      <th>4776</th>\n",
       "      <td>4</td>\n",
       "      <td>0</td>\n",
       "      <td>0</td>\n",
       "      <td>1</td>\n",
       "      <td>7</td>\n",
       "      <td>0</td>\n",
       "      <td>2</td>\n",
       "      <td>1</td>\n",
       "      <td>1</td>\n",
       "      <td>0</td>\n",
       "    </tr>\n",
       "    <tr>\n",
       "      <th>4435</th>\n",
       "      <td>3</td>\n",
       "      <td>1</td>\n",
       "      <td>1</td>\n",
       "      <td>3</td>\n",
       "      <td>1</td>\n",
       "      <td>3</td>\n",
       "      <td>1</td>\n",
       "      <td>1</td>\n",
       "      <td>0</td>\n",
       "      <td>2</td>\n",
       "    </tr>\n",
       "    <tr>\n",
       "      <th>3339</th>\n",
       "      <td>2</td>\n",
       "      <td>0</td>\n",
       "      <td>1</td>\n",
       "      <td>0</td>\n",
       "      <td>4</td>\n",
       "      <td>2</td>\n",
       "      <td>2</td>\n",
       "      <td>1</td>\n",
       "      <td>0</td>\n",
       "      <td>1</td>\n",
       "    </tr>\n",
       "    <tr>\n",
       "      <th>...</th>\n",
       "      <td>...</td>\n",
       "      <td>...</td>\n",
       "      <td>...</td>\n",
       "      <td>...</td>\n",
       "      <td>...</td>\n",
       "      <td>...</td>\n",
       "      <td>...</td>\n",
       "      <td>...</td>\n",
       "      <td>...</td>\n",
       "      <td>...</td>\n",
       "    </tr>\n",
       "    <tr>\n",
       "      <th>9167</th>\n",
       "      <td>2</td>\n",
       "      <td>2</td>\n",
       "      <td>0</td>\n",
       "      <td>0</td>\n",
       "      <td>1</td>\n",
       "      <td>0</td>\n",
       "      <td>1</td>\n",
       "      <td>1</td>\n",
       "      <td>0</td>\n",
       "      <td>0</td>\n",
       "    </tr>\n",
       "    <tr>\n",
       "      <th>9864</th>\n",
       "      <td>3</td>\n",
       "      <td>1</td>\n",
       "      <td>0</td>\n",
       "      <td>1</td>\n",
       "      <td>1</td>\n",
       "      <td>2</td>\n",
       "      <td>1</td>\n",
       "      <td>1</td>\n",
       "      <td>1</td>\n",
       "      <td>1</td>\n",
       "    </tr>\n",
       "    <tr>\n",
       "      <th>5947</th>\n",
       "      <td>3</td>\n",
       "      <td>2</td>\n",
       "      <td>1</td>\n",
       "      <td>1</td>\n",
       "      <td>7</td>\n",
       "      <td>2</td>\n",
       "      <td>1</td>\n",
       "      <td>1</td>\n",
       "      <td>1</td>\n",
       "      <td>4</td>\n",
       "    </tr>\n",
       "    <tr>\n",
       "      <th>8648</th>\n",
       "      <td>4</td>\n",
       "      <td>0</td>\n",
       "      <td>1</td>\n",
       "      <td>2</td>\n",
       "      <td>2</td>\n",
       "      <td>0</td>\n",
       "      <td>1</td>\n",
       "      <td>1</td>\n",
       "      <td>0</td>\n",
       "      <td>4</td>\n",
       "    </tr>\n",
       "    <tr>\n",
       "      <th>1150</th>\n",
       "      <td>3</td>\n",
       "      <td>2</td>\n",
       "      <td>1</td>\n",
       "      <td>0</td>\n",
       "      <td>6</td>\n",
       "      <td>2</td>\n",
       "      <td>1</td>\n",
       "      <td>0</td>\n",
       "      <td>0</td>\n",
       "      <td>0</td>\n",
       "    </tr>\n",
       "  </tbody>\n",
       "</table>\n",
       "<p>2500 rows × 10 columns</p>\n",
       "</div>"
      ],
      "text/plain": [
       "      CreditScore  Geography  Gender  Age  Tenure  Balance  NumOfProducts  \\\n",
       "2176            3          0       0    1       2        3              2   \n",
       "615             3          0       1    0       0        0              1   \n",
       "4776            4          0       0    1       7        0              2   \n",
       "4435            3          1       1    3       1        3              1   \n",
       "3339            2          0       1    0       4        2              2   \n",
       "...           ...        ...     ...  ...     ...      ...            ...   \n",
       "9167            2          2       0    0       1        0              1   \n",
       "9864            3          1       0    1       1        2              1   \n",
       "5947            3          2       1    1       7        2              1   \n",
       "8648            4          0       1    2       2        0              1   \n",
       "1150            3          2       1    0       6        2              1   \n",
       "\n",
       "      HasCrCard  IsActiveMember  EstimatedSalary  \n",
       "2176          1               1                1  \n",
       "615           1               0                3  \n",
       "4776          1               1                0  \n",
       "4435          1               0                2  \n",
       "3339          1               0                1  \n",
       "...         ...             ...              ...  \n",
       "9167          1               0                0  \n",
       "9864          1               1                1  \n",
       "5947          1               1                4  \n",
       "8648          1               0                4  \n",
       "1150          0               0                0  \n",
       "\n",
       "[2500 rows x 10 columns]"
      ]
     },
     "execution_count": 36,
     "metadata": {},
     "output_type": "execute_result"
    }
   ],
   "source": [
    "X_test"
   ]
  },
  {
   "cell_type": "code",
   "execution_count": null,
   "id": "a42fc23b",
   "metadata": {},
   "outputs": [],
   "source": [
    "import numpy as np\n",
    "\n",
    "# Convertir la variable \"Y_test\" de tipo Serie a una matriz bidimensional\n",
    "Y_test = np.array(Y_test.to_numpy()).reshape(-1, 1)"
   ]
  },
  {
   "cell_type": "code",
   "execution_count": null,
   "id": "a9136b51",
   "metadata": {},
   "outputs": [],
   "source": []
  },
  {
   "cell_type": "markdown",
   "id": "da2b323c",
   "metadata": {},
   "source": [
    "#### LogisticRegression"
   ]
  },
  {
   "cell_type": "code",
   "execution_count": 37,
   "id": "554cbf8e",
   "metadata": {},
   "outputs": [
    {
     "name": "stdout",
     "output_type": "stream",
     "text": [
      "[0 0 0 ... 0 0 0]\n"
     ]
    }
   ],
   "source": [
    "# Entrenamiento\n",
    "\n",
    "# Se crea un objeto de Regresión Logística llamado 'logreg'\n",
    "logreg = LogisticRegression()\n",
    "\n",
    "# Se entrena el modelo utilizando el conjunto de entrenamiento 'X_train' y las etiquetas 'Y_train'\n",
    "logreg.fit(X_train, Y_train)\n",
    "\n",
    "# Se utilizan el modelo entrenado para realizar predicciones en el conjunto de prueba 'X_test'\n",
    "Y_pred = logreg.predict(X_test)\n",
    "print(Y_pred)"
   ]
  },
  {
   "cell_type": "code",
   "execution_count": 38,
   "id": "6e879850",
   "metadata": {},
   "outputs": [
    {
     "data": {
      "text/plain": [
       "81.49"
      ]
     },
     "execution_count": 38,
     "metadata": {},
     "output_type": "execute_result"
    }
   ],
   "source": [
    "# Evaluación\n",
    "acc_log = round(logreg.score(X_train, Y_train) * 100, 2)\n",
    "\n",
    "# Mostramos la métrica \"F1-score\" sacada anteriormente.\n",
    "acc_log"
   ]
  },
  {
   "cell_type": "markdown",
   "id": "60b75a6a",
   "metadata": {},
   "source": [
    "#### DecisionTreeClassifier"
   ]
  },
  {
   "cell_type": "code",
   "execution_count": 39,
   "id": "60872f17",
   "metadata": {},
   "outputs": [],
   "source": [
    "# Entrenamiento\n",
    "\n",
    "decision_tree = DecisionTreeClassifier()\n",
    "decision_tree.fit(X_train, Y_train)\n",
    "Y_pred = decision_tree.predict(X_test)"
   ]
  },
  {
   "cell_type": "code",
   "execution_count": 41,
   "id": "dbd43cf2",
   "metadata": {},
   "outputs": [
    {
     "data": {
      "text/plain": [
       "98.79"
      ]
     },
     "execution_count": 41,
     "metadata": {},
     "output_type": "execute_result"
    }
   ],
   "source": [
    "# Evaluación\n",
    "\n",
    "acc_decision_tree = round(decision_tree.score(X_train, Y_train) * 100, 2)\n",
    "acc_decision_tree"
   ]
  },
  {
   "cell_type": "markdown",
   "id": "a70d321d",
   "metadata": {},
   "source": [
    "#### RandomForestClassifier"
   ]
  },
  {
   "cell_type": "code",
   "execution_count": 42,
   "id": "d1c1f899",
   "metadata": {},
   "outputs": [],
   "source": [
    "# Entrenamiento\n",
    "\n",
    "random_forest = RandomForestClassifier(n_estimators=100)\n",
    "random_forest.fit(X_train, Y_train)\n",
    "Y_pred = random_forest.predict(X_test)"
   ]
  },
  {
   "cell_type": "code",
   "execution_count": 44,
   "id": "9d12857e",
   "metadata": {},
   "outputs": [
    {
     "data": {
      "text/plain": [
       "98.79"
      ]
     },
     "execution_count": 44,
     "metadata": {},
     "output_type": "execute_result"
    }
   ],
   "source": [
    "# Evaluación\n",
    "\n",
    "random_forest.score(X_train, Y_train)\n",
    "acc_random_forest = round(random_forest.score(X_train, Y_train) * 100, 2)\n",
    "acc_random_forest"
   ]
  },
  {
   "cell_type": "markdown",
   "id": "f4d3d48d",
   "metadata": {},
   "source": [
    "#### SVC (Support Vector Machines)"
   ]
  },
  {
   "cell_type": "code",
   "execution_count": 45,
   "id": "20e565a1",
   "metadata": {},
   "outputs": [],
   "source": [
    "# Entrenamiento\n",
    "\n",
    "svc = SVC()\n",
    "svc.fit(X_train, Y_train)\n",
    "Y_pred = svc.predict(X_test)"
   ]
  },
  {
   "cell_type": "code",
   "execution_count": 46,
   "id": "1e5ea8f6",
   "metadata": {},
   "outputs": [
    {
     "data": {
      "text/plain": [
       "80.75"
      ]
     },
     "execution_count": 46,
     "metadata": {},
     "output_type": "execute_result"
    }
   ],
   "source": [
    "# Evaluación\n",
    "\n",
    "acc_svc = round(svc.score(X_train, Y_train) * 100, 2)\n",
    "acc_svc"
   ]
  },
  {
   "cell_type": "markdown",
   "id": "9d02530d",
   "metadata": {},
   "source": [
    "#### LinearSVC"
   ]
  },
  {
   "cell_type": "code",
   "execution_count": 47,
   "id": "8eed94a2",
   "metadata": {},
   "outputs": [
    {
     "name": "stderr",
     "output_type": "stream",
     "text": [
      "C:\\Users\\Manuel\\anaconda3\\lib\\site-packages\\sklearn\\svm\\_base.py:1244: ConvergenceWarning: Liblinear failed to converge, increase the number of iterations.\n",
      "  warnings.warn(\n"
     ]
    }
   ],
   "source": [
    "# Entrenamiento\n",
    "\n",
    "linear_svc = LinearSVC()\n",
    "linear_svc.fit(X_train, Y_train)\n",
    "Y_pred = linear_svc.predict(X_test)"
   ]
  },
  {
   "cell_type": "code",
   "execution_count": 48,
   "id": "d3d396f3",
   "metadata": {},
   "outputs": [
    {
     "data": {
      "text/plain": [
       "80.92"
      ]
     },
     "execution_count": 48,
     "metadata": {},
     "output_type": "execute_result"
    }
   ],
   "source": [
    "# Evaluación\n",
    "\n",
    "acc_linear_svc = round(linear_svc.score(X_train, Y_train) * 100, 2)\n",
    "acc_linear_svc"
   ]
  },
  {
   "cell_type": "markdown",
   "id": "44cedd3e",
   "metadata": {},
   "source": [
    "#### GaussianNB"
   ]
  },
  {
   "cell_type": "code",
   "execution_count": 49,
   "id": "7b76de72",
   "metadata": {},
   "outputs": [],
   "source": [
    "# Entrenamiento\n",
    "\n",
    "gaussian = GaussianNB()\n",
    "gaussian.fit(X_train, Y_train)\n",
    "Y_pred = gaussian.predict(X_test)"
   ]
  },
  {
   "cell_type": "code",
   "execution_count": 51,
   "id": "40c5107b",
   "metadata": {},
   "outputs": [
    {
     "data": {
      "text/plain": [
       "82.91"
      ]
     },
     "execution_count": 51,
     "metadata": {},
     "output_type": "execute_result"
    }
   ],
   "source": [
    "# Evaluación\n",
    "\n",
    "acc_gaussian = round(gaussian.score(X_train, Y_train) * 100, 2)\n",
    "acc_gaussian"
   ]
  },
  {
   "cell_type": "markdown",
   "id": "4489b8e3",
   "metadata": {},
   "source": [
    "#### KNeighborsClassifier (KNN)"
   ]
  },
  {
   "cell_type": "code",
   "execution_count": 52,
   "id": "82e33b88",
   "metadata": {},
   "outputs": [],
   "source": [
    "# Entrenamiento\n",
    "\n",
    "knn = KNeighborsClassifier(n_neighbors = 3)\n",
    "knn.fit(X_train, Y_train)\n",
    "Y_pred = knn.predict(X_test)"
   ]
  },
  {
   "cell_type": "code",
   "execution_count": 54,
   "id": "55554054",
   "metadata": {},
   "outputs": [
    {
     "data": {
      "text/plain": [
       "88.05"
      ]
     },
     "execution_count": 54,
     "metadata": {},
     "output_type": "execute_result"
    }
   ],
   "source": [
    "# Evaluación\n",
    "\n",
    "acc_knn = round(knn.score(X_train, Y_train) * 100, 2)\n",
    "acc_knn"
   ]
  },
  {
   "cell_type": "code",
   "execution_count": null,
   "id": "9b129588",
   "metadata": {},
   "outputs": [],
   "source": []
  },
  {
   "cell_type": "markdown",
   "id": "ccae2c4f",
   "metadata": {},
   "source": [
    "## Realiza una representación final de los resultados que obtengas."
   ]
  },
  {
   "cell_type": "markdown",
   "id": "899c58eb",
   "metadata": {},
   "source": [
    "Tabla visualización de rendimientos de cada modelo."
   ]
  },
  {
   "cell_type": "code",
   "execution_count": 56,
   "id": "010bbb9f",
   "metadata": {},
   "outputs": [
    {
     "data": {
      "text/html": [
       "<div>\n",
       "<style scoped>\n",
       "    .dataframe tbody tr th:only-of-type {\n",
       "        vertical-align: middle;\n",
       "    }\n",
       "\n",
       "    .dataframe tbody tr th {\n",
       "        vertical-align: top;\n",
       "    }\n",
       "\n",
       "    .dataframe thead th {\n",
       "        text-align: right;\n",
       "    }\n",
       "</style>\n",
       "<table border=\"1\" class=\"dataframe\">\n",
       "  <thead>\n",
       "    <tr style=\"text-align: right;\">\n",
       "      <th></th>\n",
       "      <th>Model</th>\n",
       "      <th>Score</th>\n",
       "    </tr>\n",
       "  </thead>\n",
       "  <tbody>\n",
       "    <tr>\n",
       "      <th>3</th>\n",
       "      <td>Random Forest</td>\n",
       "      <td>98.79</td>\n",
       "    </tr>\n",
       "    <tr>\n",
       "      <th>6</th>\n",
       "      <td>Decision Tree</td>\n",
       "      <td>98.79</td>\n",
       "    </tr>\n",
       "    <tr>\n",
       "      <th>1</th>\n",
       "      <td>KNN</td>\n",
       "      <td>88.05</td>\n",
       "    </tr>\n",
       "    <tr>\n",
       "      <th>4</th>\n",
       "      <td>GaussianNB</td>\n",
       "      <td>82.91</td>\n",
       "    </tr>\n",
       "    <tr>\n",
       "      <th>2</th>\n",
       "      <td>Logistic Regression</td>\n",
       "      <td>81.49</td>\n",
       "    </tr>\n",
       "    <tr>\n",
       "      <th>5</th>\n",
       "      <td>Linear SVC</td>\n",
       "      <td>80.92</td>\n",
       "    </tr>\n",
       "    <tr>\n",
       "      <th>0</th>\n",
       "      <td>SVC (Support Vector Machines)</td>\n",
       "      <td>80.75</td>\n",
       "    </tr>\n",
       "  </tbody>\n",
       "</table>\n",
       "</div>"
      ],
      "text/plain": [
       "                           Model  Score\n",
       "3                  Random Forest  98.79\n",
       "6                  Decision Tree  98.79\n",
       "1                            KNN  88.05\n",
       "4                     GaussianNB  82.91\n",
       "2            Logistic Regression  81.49\n",
       "5                     Linear SVC  80.92\n",
       "0  SVC (Support Vector Machines)  80.75"
      ]
     },
     "execution_count": 56,
     "metadata": {},
     "output_type": "execute_result"
    }
   ],
   "source": [
    "# Creamos un dataframe que contenga los nombres de los modelos y los resultados\n",
    "# de sus métricas, para poder compararlos.\n",
    "models = pd.DataFrame({\n",
    "    'Model': ['SVC (Support Vector Machines)', 'KNN', 'Logistic Regression', \n",
    "              'Random Forest', 'GaussianNB', 'Linear SVC', \n",
    "              'Decision Tree'],\n",
    "    'Score': [acc_svc, acc_knn, acc_log, \n",
    "              acc_random_forest, acc_gaussian,\n",
    "              acc_linear_svc, acc_decision_tree]})\n",
    "\n",
    "# Por último los ordenamos de mayor precición a menos, y vemos que los árboles de\n",
    "# desición son los que mejor resultado nos han dado. Casi siempre son los mejores.\n",
    "models.sort_values(by='Score', ascending=False)"
   ]
  },
  {
   "cell_type": "code",
   "execution_count": null,
   "id": "ce450342",
   "metadata": {},
   "outputs": [],
   "source": []
  },
  {
   "cell_type": "markdown",
   "id": "c250cac5",
   "metadata": {},
   "source": [
    "Gráfica de rendimientos de los modelos"
   ]
  },
  {
   "cell_type": "code",
   "execution_count": 57,
   "id": "646d6703",
   "metadata": {},
   "outputs": [],
   "source": [
    "# Creamos un par de listas con los nombres de los modelos y los resultados de las\n",
    "# métricas, para usarlos en el gráfico a continuación.\n",
    "listaNombresModelos = ['Random Forest', 'Decision Tree', 'KNN', 'Logistic Regression', \n",
    "              'Linear SVC', 'SVC (Support Vector Machines)', \n",
    "              'GaussianNB']\n",
    "listaPrecisionModelos = [acc_random_forest, acc_decision_tree, acc_knn, acc_log, \n",
    "                         acc_linear_svc, acc_svc, acc_gaussian]"
   ]
  },
  {
   "cell_type": "code",
   "execution_count": 58,
   "id": "7e0b5034",
   "metadata": {},
   "outputs": [
    {
     "data": {
      "image/png": "[encoded data removed]",
      "text/plain": [
       "<Figure size 2000x800 with 1 Axes>"
      ]
     },
     "metadata": {},
     "output_type": "display_data"
    }
   ],
   "source": [
    "plt.rcParams['figure.figsize']=20,8\n",
    "sns.set_style('darkgrid')\n",
    "ax = sns.barplot(x=listaNombresModelos, y=listaPrecisionModelos, palette = \"husl\", saturation =2.0)\n",
    "plt.xlabel('Clasificación de modelos', fontsize = 20 )\n",
    "plt.ylabel('% de Precisión', fontsize = 20)\n",
    "plt.title('Precision de los diferentes modelos', fontsize = 20)\n",
    "plt.xticks(fontsize = 12, horizontalalignment = 'center', rotation = 8)\n",
    "plt.yticks(fontsize = 12)\n",
    "for i in ax.patches:\n",
    "    width, height = i.get_width(), i.get_height()\n",
    "    x, y = i.get_xy() \n",
    "    ax.annotate(f'{round(height,2)}%', (x + width/2, y + height*1.02), ha='center', fontsize = 'x-large')\n",
    "plt.show()"
   ]
  },
  {
   "cell_type": "markdown",
   "id": "08c3dea8",
   "metadata": {},
   "source": [
    "# Conclusión"
   ]
  },
  {
   "cell_type": "markdown",
   "id": "44a703e7",
   "metadata": {},
   "source": [
    "Los dos modelos que han presentado el mejor resultado han sido tanto \"Random Forest\", como \"Decision Tree\"; con un 98,79%."
   ]
  }
 ],
 "metadata": {
  "kernelspec": {
   "display_name": "Python 3 (ipykernel)",
   "language": "python",
   "name": "python3"
  },
  "language_info": {
   "codemirror_mode": {
    "name": "ipython",
    "version": 3
   },
   "file_extension": ".py",
   "mimetype": "text/x-python",
   "name": "python",
   "nbconvert_exporter": "python",
   "pygments_lexer": "ipython3",
   "version": "3.10.9"
  }
 },
 "nbformat": 4,
 "nbformat_minor": 5
}
